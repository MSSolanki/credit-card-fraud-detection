{
  "nbformat": 4,
  "nbformat_minor": 0,
  "metadata": {
    "colab": {
      "provenance": []
    },
    "kernelspec": {
      "name": "python3",
      "display_name": "Python 3"
    },
    "language_info": {
      "name": "python"
    }
  },
  "cells": [
    {
      "cell_type": "code",
      "execution_count": null,
      "metadata": {
        "colab": {
          "base_uri": "https://localhost:8080/"
        },
        "id": "ukiHBmOKuVAj",
        "outputId": "f39785d2-58c4-44cc-f699-93cd1b2ee07d"
      },
      "outputs": [
        {
          "output_type": "stream",
          "name": "stdout",
          "text": [
            "Training the model...\n"
          ]
        },
        {
          "output_type": "stream",
          "name": "stderr",
          "text": [
            "\r  0%|          | 0/276076 [00:00<?, ?it/s]"
          ]
        }
      ],
      "source": [
        "import pandas as pd\n",
        "from sklearn.model_selection import train_test_split\n",
        "from sklearn.preprocessing import StandardScaler, OneHotEncoder\n",
        "from sklearn.compose import ColumnTransformer\n",
        "from sklearn.pipeline import Pipeline\n",
        "from sklearn.linear_model import LogisticRegression\n",
        "from sklearn.tree import DecisionTreeClassifier\n",
        "from sklearn.ensemble import RandomForestClassifier\n",
        "from sklearn.metrics import classification_report, confusion_matrix, accuracy_score\n",
        "from tqdm import tqdm\n",
        "\n",
        "def load_and_preprocess_dataset(file_path):\n",
        "    try:\n",
        "        data = pd.read_csv(file_path)\n",
        "        data['trans_date_trans_time'] = pd.to_datetime(data['trans_date_trans_time'])\n",
        "\n",
        "        data['year'] = data['trans_date_trans_time'].dt.year\n",
        "        data['month'] = data['trans_date_trans_time'].dt.month\n",
        "        data['day'] = data['trans_date_trans_time'].dt.day\n",
        "        data['hour'] = data['trans_date_trans_time'].dt.hour\n",
        "        data['minute'] = data['trans_date_trans_time'].dt.minute\n",
        "\n",
        "\n",
        "        data = data.drop('trans_date_trans_time', axis=1)\n",
        "\n",
        "\n",
        "        data.dropna(subset=['is_fraud'], inplace=True)\n",
        "\n",
        "\n",
        "        X = data.drop('is_fraud', axis=1)\n",
        "        y = data['is_fraud']\n",
        "\n",
        "        numeric_columns = X.select_dtypes(include=['number'])\n",
        "        X[numeric_columns.columns] = numeric_columns.fillna(numeric_columns.mean())\n",
        "\n",
        "\n",
        "        numeric_features = X.select_dtypes(include=['number']).columns\n",
        "        categorical_features = X.select_dtypes(exclude=['number']).columns\n",
        "\n",
        "        numeric_transformer = StandardScaler()\n",
        "        categorical_transformer = Pipeline(steps=[\n",
        "            ('onehot', OneHotEncoder(handle_unknown='ignore'))\n",
        "        ])\n",
        "\n",
        "        preprocessor = ColumnTransformer(\n",
        "            transformers=[\n",
        "                ('num', numeric_transformer, numeric_features),\n",
        "                ('cat', categorical_transformer, categorical_features)\n",
        "            ])\n",
        "\n",
        "\n",
        "        pipeline = Pipeline([\n",
        "            ('preprocessor', preprocessor),\n",
        "            ('classifier', RandomForestClassifier())\n",
        "        ])\n",
        "\n",
        "        return pipeline, X, y\n",
        "    except Exception as e:\n",
        "        print(f\"Error loading and preprocessing dataset: {str(e)}\")\n",
        "        return None, None, None\n",
        "\n",
        "def train_and_evaluate_model(pipeline, X, y):\n",
        "    try:\n",
        "        X_train, X_test, y_train, y_test = train_test_split(X, y, test_size=0.2, random_state=42)\n",
        "\n",
        "        print(\"Training the model...\")\n",
        "\n",
        "        with tqdm(total=len(X_train)) as pbar:\n",
        "            pipeline.named_steps['classifier'].n_jobs = -1\n",
        "            pipeline.fit(X_train, y_train)\n",
        "\n",
        "            pbar.update(len(X_train))\n",
        "\n",
        "        print(\"Evaluating the model...\")\n",
        "        y_pred = pipeline.predict(X_test)\n",
        "\n",
        "\n",
        "        print(\"Classification Report:\")\n",
        "        print(classification_report(y_test, y_pred))\n",
        "\n",
        "        print(\"Confusion Matrix:\")\n",
        "        print(confusion_matrix(y_test, y_pred))\n",
        "\n",
        "        accuracy = accuracy_score(y_test, y_pred)\n",
        "        print(f\"Accuracy: {accuracy * 100:.2f}%\")\n",
        "    except Exception as e:\n",
        "        print(f\"Error training and evaluating the model: {str(e)}\")\n",
        "\n",
        "file_path = \"fraudTrain.csv\"\n",
        "\n",
        "pipeline, X, y = load_and_preprocess_dataset(file_path)\n",
        "\n",
        "if pipeline is not None:\n",
        "\n",
        "    train_and_evaluate_model(pipeline, X, y)\n"
      ]
    }
  ]
}